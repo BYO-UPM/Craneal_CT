{
 "cells": [
  {
   "cell_type": "code",
   "execution_count": 7,
   "metadata": {},
   "outputs": [
    {
     "name": "stdout",
     "output_type": "stream",
     "text": [
      "2.15.0\n",
      "2.15.0\n"
     ]
    }
   ],
   "source": [
    "import tensorflow as tf\n",
    "import keras\n",
    "\n",
    "print(tf.__version__)\n",
    "print(keras.__version__)"
   ]
  },
  {
   "cell_type": "code",
   "execution_count": 9,
   "metadata": {},
   "outputs": [
    {
     "name": "stdout",
     "output_type": "stream",
     "text": [
      "GPU is available.\n",
      "Device name: /physical_device:GPU:0\n",
      "Device name: /physical_device:GPU:1\n"
     ]
    }
   ],
   "source": [
    "visible_devices = tf.config.experimental.list_physical_devices('GPU')\n",
    "\n",
    "if visible_devices:\n",
    "    print(\"GPU is available.\")\n",
    "    for device in visible_devices:\n",
    "        print(f\"Device name: {device.name}\")\n",
    "else:\n",
    "    print(\"No GPU is available. TensorFlow will use CPU.\")"
   ]
  }
 ],
 "metadata": {
  "kernelspec": {
   "display_name": "Python 3",
   "language": "python",
   "name": "python3"
  },
  "language_info": {
   "codemirror_mode": {
    "name": "ipython",
    "version": 3
   },
   "file_extension": ".py",
   "mimetype": "text/x-python",
   "name": "python",
   "nbconvert_exporter": "python",
   "pygments_lexer": "ipython3",
   "version": "3.10.13"
  }
 },
 "nbformat": 4,
 "nbformat_minor": 2
}
