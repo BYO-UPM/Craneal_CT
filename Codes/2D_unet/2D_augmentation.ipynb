{
 "cells": [
  {
   "cell_type": "code",
   "execution_count": 13,
   "id": "2eeb9679",
   "metadata": {},
   "outputs": [],
   "source": [
    "import sys\n",
    "import os\n",
    "import cv2\n",
    "import random \n",
    "import numpy as np\n",
    "import imgaug.augmenters as iaa\n",
    "import matplotlib.pyplot as plt"
   ]
  },
  {
   "cell_type": "code",
   "execution_count": 14,
   "id": "3956daf0",
   "metadata": {},
   "outputs": [],
   "source": [
    "import tensorflow as tf"
   ]
  },
  {
   "cell_type": "code",
   "execution_count": 15,
   "id": "15507a9b",
   "metadata": {},
   "outputs": [
    {
     "name": "stdout",
     "output_type": "stream",
     "text": [
      "GPU is available.\n",
      "Device name: /physical_device:GPU:0\n",
      "Device name: /physical_device:GPU:1\n"
     ]
    }
   ],
   "source": [
    "visible_devices = tf.config.experimental.list_physical_devices('GPU')\n",
    "\n",
    "if visible_devices:\n",
    "    print(\"GPU is available.\")\n",
    "    for device in visible_devices:\n",
    "        print(f\"Device name: {device.name}\")\n",
    "else:\n",
    "    print(\"No GPU is available. TensorFlow will use CPU.\")"
   ]
  },
  {
   "cell_type": "code",
   "execution_count": 16,
   "id": "f1f88d2d",
   "metadata": {},
   "outputs": [],
   "source": [
    "augmentation_sequences = [\n",
    "    # Geometric\n",
    "    iaa.Fliplr(1.0),                  # Horizontal flip\n",
    "    iaa.Flipud(1.0),                  # Vertical flip\n",
    "    iaa.ScaleX(0.85),                 # Scaling in x-axis\n",
    "    # Noises\n",
    "    iaa.AdditiveGaussianNoise(scale=(0, 10)),     # Gaussian\n",
    "    iaa.AdditiveLaplaceNoise(scale=(0, 10)),      # Uniform\n",
    "    iaa.AdditivePoissonNoise(40),                 # Poisson\n",
    "    iaa.SaltAndPepper(0.1)                        # Salt and Pepper\n",
    "]\n",
    "\n",
    "# Rotation from -180 to 180\n",
    "def aug_rotation(degree, image):\n",
    "    rotation = iaa.Affine(rotate=degree)\n",
    "    img = rotation(image=image)\n",
    "\n",
    "    return img"
   ]
  },
  {
   "cell_type": "code",
   "execution_count": 17,
   "id": "9690e6e3",
   "metadata": {},
   "outputs": [],
   "source": [
    "# Load the dataset\n",
    "def load_2Dimages(folder):\n",
    "    images = []\n",
    "    # Keep the information of axis z (each slice)\n",
    "    file_list = sorted(file for file in os.listdir(folder) if file.endswith('.png'))\n",
    "\n",
    "    for filename in file_list:\n",
    "        path = os.path.join(folder, filename)\n",
    "        img = cv2.imread(path, cv2.IMREAD_GRAYSCALE)  # grayscale\n",
    "        if img is not None:\n",
    "            images.append(img)\n",
    "    return np.array(images)"
   ]
  },
  {
   "cell_type": "code",
   "execution_count": 18,
   "id": "3fa98fac",
   "metadata": {},
   "outputs": [],
   "source": [
    "def process_original(image2D):\n",
    "    image_3_channels = np.stack((image2D,)*3, axis=-1)\n",
    "    return image_3_channels\n",
    "\n",
    "def process_mask(images2D):\n",
    "    mask_2_channels = np.zeros(images2D.shape + (2,))\n",
    "    indices_greater_than_0_5 = np.where(images2D > 5)\n",
    "    for idx in zip(*indices_greater_than_0_5):\n",
    "        mask_2_channels[idx[0],idx[1],idx[2],0] = 1\n",
    "\n",
    "    indices_smaller_than_0_5 = np.where(images2D < 5)\n",
    "    for idx in zip(*indices_smaller_than_0_5):\n",
    "        mask_2_channels[idx[0],idx[1],idx[2],1] = 1\n",
    "\n",
    "    return mask_2_channels"
   ]
  },
  {
   "cell_type": "code",
   "execution_count": 6,
   "id": "153af0b2",
   "metadata": {},
   "outputs": [],
   "source": [
    "def data_aug(ori_path, mask_path):\n",
    "    img_original = load_2Dimages(ori_path)\n",
    "    p_original = process_original(img_original)\n",
    "    img_mask = load_2Dimages(mask_path)\n",
    "    p_mask = process_mask(img_mask)\n",
    "\n",
    "    fliph_original = np.zeros((64,512,512))\n",
    "    fliph_mask = np.zeros((64,512,512))\n",
    "    flipv_original = np.zeros((64,512,512))\n",
    "    flipv_mask = np.zeros((64,512,512))\n",
    "    scaleX_original = np.zeros((64,512,512))\n",
    "    scaleX_mask = np.zeros((64,512,512))\n",
    "    rotation_original = np.zeros((64,512,512))\n",
    "    rotation_mask = np.zeros((64,512,512))\n",
    "    rotation2_original = np.zeros((64,512,512))\n",
    "    rotation2_mask = np.zeros((64,512,512))\n",
    "    noise1_original = np.zeros((64,512,512))\n",
    "    noise1_mask = np.zeros((64,512,512))    \n",
    "    noise2_original = np.zeros((64,512,512))\n",
    "    noise2_mask = np.zeros((64,512,512))\n",
    "    \n",
    "    for i in range(64):\n",
    "        fliph_original[i,:,:] = augmentation_sequences[0](image=img_original[i,:,:])\n",
    "        fliph_mask[i,:,:] = augmentation_sequences[0](image=img_mask[i,:,:])\n",
    "        flipv_original[i,:,:] = augmentation_sequences[1](image=img_original[i,:,:])\n",
    "        flipv_mask[i,:,:] = augmentation_sequences[1](image=img_mask[i,:,:])\n",
    "        scaleX_original[i,:,:] = augmentation_sequences[2](image=img_original[i,:,:])\n",
    "        scaleX_mask[i,:,:] = augmentation_sequences[2](image=img_mask[i,:,:])\n",
    "\n",
    "        degree = random.sample(range(-180, 180), 2)\n",
    "        rotation_original[i,:,:] = aug_rotation(degree[0], img_original[i,:,:])\n",
    "        rotation_mask[i,:,:] = aug_rotation(degree[0], img_mask[i,:,:])\n",
    "        rotation2_original[i,:,:] = aug_rotation(degree[1], img_original[i,:,:])\n",
    "        rotation2_mask[i,:,:] = aug_rotation(degree[1], img_mask[i,:,:])\n",
    "    \n",
    "        ind = random.sample(range(3, 7), 2)\n",
    "        noise1_original[i,:,:] = augmentation_sequences[ind[0]](image=img_original[i,:,:])\n",
    "        noise1_mask[i,:,:] = augmentation_sequences[ind[0]](image=img_mask[i,:,:])\n",
    "        noise2_original[i,:,:] = augmentation_sequences[ind[1]](image=img_original[i,:,:])\n",
    "        noise2_mask[i,:,:] = augmentation_sequences[ind[1]](image=img_mask[i,:,:])\n",
    "        \n",
    "    fliph_original = process_original(fliph_original)\n",
    "    fliph_mask = process_mask(fliph_mask)\n",
    "    flipv_original = process_original(flipv_original)\n",
    "    flipv_mask = process_mask(flipv_mask)\n",
    "    scaleX_original = process_original(scaleX_original)\n",
    "    scaleX_mask = process_mask(scaleX_mask)\n",
    "    rotation_original = process_original(rotation_original)\n",
    "    rotation_mask = process_mask(rotation_mask)\n",
    "    rotation2_original = process_original(rotation2_original)\n",
    "    rotation2_mask = process_mask(rotation2_mask)\n",
    "    noise1_original = process_original(noise1_original)\n",
    "    noise1_mask = process_mask(noise1_mask)\n",
    "    noise2_original = process_original(noise2_original)\n",
    "    noise2_mask = process_mask(noise2_mask)\n",
    "    \n",
    "    original = np.concatenate((p_original, fliph_original, flipv_original, scaleX_original, \n",
    "                               rotation_original, rotation2_original, noise1_original, noise2_original), axis=0)\n",
    "    mask = np.concatenate((p_mask, fliph_mask, flipv_mask, scaleX_mask, \n",
    "                           rotation_mask, rotation2_mask, noise1_mask, noise2_mask), axis=0)\n",
    "    return original, mask"
   ]
  },
  {
   "cell_type": "code",
   "execution_count": 22,
   "id": "023d9de1",
   "metadata": {},
   "outputs": [],
   "source": [
    "def data_aug(ori_path, mask_path):\n",
    "    img_original = load_2Dimages(ori_path)\n",
    "    p_original = process_original(img_original)\n",
    "    img_mask = load_2Dimages(mask_path)\n",
    "    p_mask = process_mask(img_mask)\n",
    "\n",
    "    \n",
    "    \n",
    "    original = p_original\n",
    "    mask = p_mask\n",
    "    return original, mask"
   ]
  },
  {
   "cell_type": "code",
   "execution_count": 25,
   "id": "d65055c1",
   "metadata": {},
   "outputs": [],
   "source": [
    "img_original = load_2Dimages(\"/media/my_ftp/BasesDeDatos_Paranasal_CAT/CT_Craneal/Original/TAC1\")"
   ]
  },
  {
   "cell_type": "code",
   "execution_count": 26,
   "id": "98617114",
   "metadata": {},
   "outputs": [],
   "source": [
    "img_original = process_original(img_original)"
   ]
  },
  {
   "cell_type": "code",
   "execution_count": 28,
   "id": "de78be06",
   "metadata": {},
   "outputs": [
    {
     "data": {
      "text/plain": [
       "(64, 512, 512, 3)"
      ]
     },
     "execution_count": 28,
     "metadata": {},
     "output_type": "execute_result"
    }
   ],
   "source": [
    "img_original.shape"
   ]
  },
  {
   "cell_type": "code",
   "execution_count": 23,
   "id": "36c88caa",
   "metadata": {},
   "outputs": [],
   "source": [
    "path_train_original1 = \"/media/my_ftp/BasesDeDatos_Paranasal_CAT/CT_Craneal/Original/TAC1\"\n",
    "path_train_mask1 = \"/media/my_ftp/BasesDeDatos_Paranasal_CAT/CT_Craneal/Mask/TAC1\"\n",
    "path_train_original2 = \"/media/my_ftp/BasesDeDatos_Paranasal_CAT/CT_Craneal/Original/TAC2\"\n",
    "path_train_mask2 = \"/media/my_ftp/BasesDeDatos_Paranasal_CAT/CT_Craneal/Mask/TAC2\"\n",
    "path_train_original3 = \"/media/my_ftp/BasesDeDatos_Paranasal_CAT/CT_Craneal/Original/TAC3\"\n",
    "path_train_mask3 = \"/media/my_ftp/BasesDeDatos_Paranasal_CAT/CT_Craneal/Mask/TAC3\"\n",
    "path_train_original4 = \"/media/my_ftp/BasesDeDatos_Paranasal_CAT/CT_Craneal/Original/TAC4\"\n",
    "path_train_mask4 = \"/media/my_ftp/BasesDeDatos_Paranasal_CAT/CT_Craneal/Mask/TAC4\"\n",
    "path_train_original5 = \"/media/my_ftp/BasesDeDatos_Paranasal_CAT/CT_Craneal/Original/TAC5\"\n",
    "path_train_mask5 = \"/media/my_ftp/BasesDeDatos_Paranasal_CAT/CT_Craneal/Mask/TAC5\"\n",
    "path_train_original6 = \"/media/my_ftp/BasesDeDatos_Paranasal_CAT/CT_Craneal/Original/TAC6\"\n",
    "path_train_mask6 = \"/media/my_ftp/BasesDeDatos_Paranasal_CAT/CT_Craneal/Mask/TAC6\"\n",
    "path_train_original7 = \"/media/my_ftp/BasesDeDatos_Paranasal_CAT/CT_Craneal/Original/TAC7\"\n",
    "path_train_mask7 = \"/media/my_ftp/BasesDeDatos_Paranasal_CAT/CT_Craneal/Mask/TAC7\"\n",
    "path_train_original8 = \"/media/my_ftp/BasesDeDatos_Paranasal_CAT/CT_Craneal/Original/TAC8\"\n",
    "path_train_mask8 = \"/media/my_ftp/BasesDeDatos_Paranasal_CAT/CT_Craneal/Mask/TAC8\"\n",
    "path_train_original9 = \"/media/my_ftp/BasesDeDatos_Paranasal_CAT/CT_Craneal/Original/TAC9\"\n",
    "path_train_mask9 = \"/media/my_ftp/BasesDeDatos_Paranasal_CAT/CT_Craneal/Mask/TAC9\""
   ]
  },
  {
   "cell_type": "code",
   "execution_count": 29,
   "id": "f367ae4b",
   "metadata": {},
   "outputs": [],
   "source": [
    "train_original1_2D, train_mask1_2D = data_aug(path_train_original1, path_train_mask1)\n",
    "train_original2_2D, train_mask2_2D = data_aug(path_train_original2, path_train_mask2)\n",
    "train_original3_2D, train_mask3_2D = data_aug(path_train_original3, path_train_mask3)\n",
    "train_original4_2D, train_mask4_2D = data_aug(path_train_original4, path_train_mask4)\n",
    "train_original5_2D, train_mask5_2D = data_aug(path_train_original5, path_train_mask5)\n",
    "train_original6_2D, train_mask6_2D = data_aug(path_train_original6, path_train_mask6)\n",
    "train_original7_2D, train_mask7_2D = data_aug(path_train_original7, path_train_mask7)\n",
    "train_original8_2D, train_mask8_2D = data_aug(path_train_original8, path_train_mask8)\n",
    "train_original9_2D, train_mask9_2D = data_aug(path_train_original9, path_train_mask9)"
   ]
  },
  {
   "cell_type": "code",
   "execution_count": 10,
   "id": "fb24dcaf",
   "metadata": {},
   "outputs": [
    {
     "ename": "",
     "evalue": "",
     "output_type": "error",
     "traceback": [
      "\u001b[1;31mEl kernel se bloqueó al ejecutar código en la celda actual o en una celda anterior. \n",
      "\u001b[1;31mRevise el código de las celdas para identificar una posible causa del error. \n",
      "\u001b[1;31mHaga clic <a href='https://aka.ms/vscodeJupyterKernelCrash'>aquí</a> para obtener más información. \n",
      "\u001b[1;31mVea Jupyter <a href='command:jupyter.viewOutput'>log</a> para obtener más detalles."
     ]
    }
   ],
   "source": [
    "# Cross-validation sets\n",
    "train_original_2D = np.concatenate((train_original1_2D, train_original2_2D, train_original3_2D, train_original4_2D,\n",
    "                             train_original5_2D, train_original6_2D, train_original7_2D), axis=0)\n",
    "train_mask_2D = np.concatenate((train_mask1_2D, train_mask2_2D, train_mask3_2D, train_mask4_2D, \n",
    "                                train_mask5_2D, train_mask6_2D, train_mask7_2D), axis=0)"
   ]
  },
  {
   "cell_type": "code",
   "execution_count": 245,
   "id": "afff00ac",
   "metadata": {},
   "outputs": [],
   "source": [
    "# Save the data of 3D images\n",
    "np.save('/media/my_ftp/BasesDeDatos_Paranasal_CAT/CT_Craneal/Data_Augmentation/2D_train_aug_original2.npy', train_original_2D)\n",
    "np.save('/media/my_ftp/BasesDeDatos_Paranasal_CAT/CT_Craneal/Data_Augmentation/2D_train_aug_mask2.npy', train_mask_2D)"
   ]
  },
  {
   "cell_type": "code",
   "execution_count": 15,
   "id": "c6bf15a9",
   "metadata": {},
   "outputs": [
    {
     "data": {
      "text/plain": [
       "(512, 512, 512, 2)"
      ]
     },
     "execution_count": 15,
     "metadata": {},
     "output_type": "execute_result"
    }
   ],
   "source": [
    "train_mask8_2D.shape"
   ]
  },
  {
   "cell_type": "code",
   "execution_count": 16,
   "id": "b40284e0",
   "metadata": {},
   "outputs": [
    {
     "data": {
      "text/plain": [
       "(512, 512, 512, 3)"
      ]
     },
     "execution_count": 16,
     "metadata": {},
     "output_type": "execute_result"
    }
   ],
   "source": [
    "train_original8_2D.shape"
   ]
  },
  {
   "cell_type": "code",
   "execution_count": 17,
   "id": "7c184415",
   "metadata": {},
   "outputs": [
    {
     "data": {
      "image/png": "[encoded data removed]",
      "text/plain": [
       "<Figure size 1200x400 with 2 Axes>"
      ]
     },
     "metadata": {},
     "output_type": "display_data"
    }
   ],
   "source": [
    "# Check the images 2D\n",
    "fig, axes = plt.subplots(1, 2, figsize=(12, 4))\n",
    "\n",
    "axes[0].imshow(train_original9_2D[21,:,:,0], cmap='gray')\n",
    "axes[0].set_title('Original image')\n",
    "\n",
    "axes[1].imshow(train_mask9_2D[21,:,:,0], cmap='gray')\n",
    "axes[1].set_title('Mask')\n",
    "    \n",
    "plt.show()"
   ]
  },
  {
   "cell_type": "code",
   "execution_count": null,
   "id": "8d96cff5",
   "metadata": {},
   "outputs": [],
   "source": [
    "import tensorflow as tf\n",
    "import keras\n",
    "\n",
    "print(tf.__version__)\n",
    "print(keras.__version__)"
   ]
  },
  {
   "cell_type": "code",
   "execution_count": 24,
   "id": "f457b7ad",
   "metadata": {},
   "outputs": [],
   "source": [
    "from keras import backend as K\n",
    "from sklearn.preprocessing import MinMaxScaler, StandardScaler"
   ]
  },
  {
   "cell_type": "code",
   "execution_count": 25,
   "id": "21728dd1",
   "metadata": {},
   "outputs": [],
   "source": [
    "validation_original_2D = train_original8_2D\n",
    "validation_mask_2D = train_mask8_2D\n",
    "test_original_2D = np.load('/media/my_ftp/BasesDeDatos_Paranasal_CAT/CT_Craneal/Data_Augmentation/2D_test_original1.npy')\n",
    "test_mask_2D = np.load('/media/my_ftp/BasesDeDatos_Paranasal_CAT/CT_Craneal/Data_Augmentation/2D_test_mask1.npy')"
   ]
  },
  {
   "cell_type": "code",
   "execution_count": 26,
   "id": "a5f52ec7",
   "metadata": {},
   "outputs": [
    {
     "name": "stdout",
     "output_type": "stream",
     "text": [
      "Shape of the data: (64, 512, 512, 3)\n",
      "Shape of the data: (3584, 512, 512, 2)\n"
     ]
    }
   ],
   "source": [
    "print(\"Shape of the data:\", test_original_2D.shape)\n",
    "print(\"Shape of the data:\", train_mask_2D.shape)"
   ]
  },
  {
   "cell_type": "code",
   "execution_count": 27,
   "id": "fed3ac82",
   "metadata": {},
   "outputs": [],
   "source": [
    "from keras.models import Model\n",
    "from keras.layers import Input, Conv2D, MaxPooling2D, UpSampling2D, concatenate, Conv2DTranspose, BatchNormalization, Dropout, Lambda\n",
    "\n",
    "def vanilla_unet_model(IMG_HEIGHT, IMG_WIDTH, IMG_CHANNELS):\n",
    "\n",
    "    inputs = Input((IMG_HEIGHT, IMG_WIDTH, IMG_CHANNELS))\n",
    "    s = Lambda(lambda x: x / 255)(inputs)   \n",
    "    #s = inputs\n",
    "\n",
    "    #Contraction path\n",
    "    c1 = Conv2D(16, (3, 3), activation='relu', kernel_initializer='he_normal', padding='same')(s)\n",
    "    c1 = Dropout(0.1)(c1)\n",
    "    c1 = Conv2D(16, (3, 3), activation='relu', kernel_initializer='he_normal', padding='same')(c1)\n",
    "    p1 = MaxPooling2D((2, 2))(c1)\n",
    "    \n",
    "    c2 = Conv2D(32, (3, 3), activation='relu', kernel_initializer='he_normal', padding='same')(p1)\n",
    "    c2 = Dropout(0.1)(c2)\n",
    "    c2 = Conv2D(32, (3, 3), activation='relu', kernel_initializer='he_normal', padding='same')(c2)\n",
    "    p2 = MaxPooling2D((2, 2))(c2)\n",
    "     \n",
    "    c3 = Conv2D(64, (3, 3), activation='relu', kernel_initializer='he_normal', padding='same')(p2)\n",
    "    c3 = Dropout(0.2)(c3)\n",
    "    c3 = Conv2D(64, (3, 3), activation='relu', kernel_initializer='he_normal', padding='same')(c3)\n",
    "    p3 = MaxPooling2D((2, 2))(c3)\n",
    "     \n",
    "    c4 = Conv2D(128, (3, 3), activation='relu', kernel_initializer='he_normal', padding='same')(p3)\n",
    "    c4 = Dropout(0.2)(c4)\n",
    "    c4 = Conv2D(128, (3, 3), activation='relu', kernel_initializer='he_normal', padding='same')(c4)\n",
    "    p4 = MaxPooling2D(pool_size=(2, 2))(c4)\n",
    "     \n",
    "    c5 = Conv2D(256, (3, 3), activation='relu', kernel_initializer='he_normal', padding='same')(p4)\n",
    "    c5 = Dropout(0.3)(c5)\n",
    "    c5 = Conv2D(256, (3, 3), activation='relu', kernel_initializer='he_normal', padding='same')(c5)\n",
    "    \n",
    "    #Expansive path \n",
    "    u6 = Conv2DTranspose(128, (2, 2), strides=(2, 2), padding='same')(c5)\n",
    "    u6 = concatenate([u6, c4])\n",
    "    c6 = Conv2D(128, (3, 3), activation='relu', kernel_initializer='he_normal', padding='same')(u6)\n",
    "    c6 = Dropout(0.2)(c6)\n",
    "    c6 = Conv2D(128, (3, 3), activation='relu', kernel_initializer='he_normal', padding='same')(c6)\n",
    "     \n",
    "    u7 = Conv2DTranspose(64, (2, 2), strides=(2, 2), padding='same')(c6)\n",
    "    u7 = concatenate([u7, c3])\n",
    "    c7 = Conv2D(64, (3, 3), activation='relu', kernel_initializer='he_normal', padding='same')(u7)\n",
    "    c7 = Dropout(0.2)(c7)\n",
    "    c7 = Conv2D(64, (3, 3), activation='relu', kernel_initializer='he_normal', padding='same')(c7)\n",
    "     \n",
    "    u8 = Conv2DTranspose(32, (2, 2), strides=(2, 2), padding='same')(c7)\n",
    "    u8 = concatenate([u8, c2])\n",
    "    c8 = Conv2D(32, (3, 3), activation='relu', kernel_initializer='he_normal', padding='same')(u8)\n",
    "    c8 = Dropout(0.1)(c8)\n",
    "    c8 = Conv2D(32, (3, 3), activation='relu', kernel_initializer='he_normal', padding='same')(c8)\n",
    "     \n",
    "    u9 = Conv2DTranspose(16, (2, 2), strides=(2, 2), padding='same')(c8)\n",
    "    u9 = concatenate([u9, c1], axis=3)\n",
    "    c9 = Conv2D(16, (3, 3), activation='relu', kernel_initializer='he_normal', padding='same')(u9)\n",
    "    c9 = Dropout(0.1)(c9)\n",
    "    c9 = Conv2D(16, (3, 3), activation='relu', kernel_initializer='he_normal', padding='same')(c9)\n",
    "     \n",
    "    outputs = Conv2D(1, (1, 1), activation='sigmoid')(c9)\n",
    "     \n",
    "    model = Model(inputs=[inputs], outputs=[outputs])\n",
    "    model.summary()\n",
    "    \n",
    "    return model"
   ]
  },
  {
   "cell_type": "code",
   "execution_count": 28,
   "id": "b6537a30",
   "metadata": {},
   "outputs": [
    {
     "name": "stderr",
     "output_type": "stream",
     "text": [
      "2024-03-06 11:44:50.474323: I external/local_xla/xla/stream_executor/cuda/cuda_executor.cc:901] successful NUMA node read from SysFS had negative value (-1), but there must be at least one NUMA node, so returning NUMA node zero. See more at https://github.com/torvalds/linux/blob/v6.0/Documentation/ABI/testing/sysfs-bus-pci#L344-L355\n",
      "2024-03-06 11:44:50.474509: I external/local_xla/xla/stream_executor/cuda/cuda_executor.cc:901] successful NUMA node read from SysFS had negative value (-1), but there must be at least one NUMA node, so returning NUMA node zero. See more at https://github.com/torvalds/linux/blob/v6.0/Documentation/ABI/testing/sysfs-bus-pci#L344-L355\n",
      "2024-03-06 11:44:50.474718: W tensorflow/core/common_runtime/gpu/gpu_device.cc:2256] Cannot dlopen some GPU libraries. Please make sure the missing libraries mentioned above are installed properly if you would like to use GPU. Follow the guide at https://www.tensorflow.org/install/gpu for how to download and setup the required libraries for your platform.\n",
      "Skipping registering GPU devices...\n"
     ]
    }
   ],
   "source": [
    "LR = 0.0001\n",
    "optim = tf.keras.optimizers.Adam(LR)"
   ]
  },
  {
   "cell_type": "code",
   "execution_count": 33,
   "id": "80ba69e7",
   "metadata": {},
   "outputs": [
    {
     "name": "stdout",
     "output_type": "stream",
     "text": [
      "Segmentation Models: using `tf.keras` framework.\n"
     ]
    }
   ],
   "source": [
    "import os\n",
    "os.environ[\"SM_FRAMEWORK\"] = \"tf.keras\"\n",
    "from tensorflow import keras\n",
    "import segmentation_models as sm"
   ]
  },
  {
   "cell_type": "code",
   "execution_count": 34,
   "id": "7576f79f",
   "metadata": {},
   "outputs": [],
   "source": [
    "dice_loss = sm.losses.DiceLoss()\n",
    "focal_loss = sm.losses.CategoricalFocalLoss()\n",
    "total_loss = dice_loss + (1 * focal_loss)"
   ]
  },
  {
   "cell_type": "code",
   "execution_count": 35,
   "id": "5fd3d34b",
   "metadata": {},
   "outputs": [],
   "source": [
    "metrics = [sm.metrics.IOUScore(threshold=0.5), sm.metrics.FScore(threshold=0.5)]"
   ]
  },
  {
   "cell_type": "code",
   "execution_count": 36,
   "id": "f78004aa",
   "metadata": {},
   "outputs": [
    {
     "name": "stdout",
     "output_type": "stream",
     "text": [
      "Model: \"model\"\n",
      "__________________________________________________________________________________________________\n",
      " Layer (type)                Output Shape                 Param #   Connected to                  \n",
      "==================================================================================================\n",
      " input_1 (InputLayer)        [(None, 512, 512, 1)]        0         []                            \n",
      "                                                                                                  \n",
      " lambda (Lambda)             (None, 512, 512, 1)          0         ['input_1[0][0]']             \n",
      "                                                                                                  \n",
      " conv2d (Conv2D)             (None, 512, 512, 16)         160       ['lambda[0][0]']              \n",
      "                                                                                                  \n",
      " dropout (Dropout)           (None, 512, 512, 16)         0         ['conv2d[0][0]']              \n",
      "                                                                                                  \n",
      " conv2d_1 (Conv2D)           (None, 512, 512, 16)         2320      ['dropout[0][0]']             \n",
      "                                                                                                  \n",
      " max_pooling2d (MaxPooling2  (None, 256, 256, 16)         0         ['conv2d_1[0][0]']            \n",
      " D)                                                                                               \n",
      "                                                                                                  \n",
      " conv2d_2 (Conv2D)           (None, 256, 256, 32)         4640      ['max_pooling2d[0][0]']       \n",
      "                                                                                                  \n",
      " dropout_1 (Dropout)         (None, 256, 256, 32)         0         ['conv2d_2[0][0]']            \n",
      "                                                                                                  \n",
      " conv2d_3 (Conv2D)           (None, 256, 256, 32)         9248      ['dropout_1[0][0]']           \n",
      "                                                                                                  \n",
      " max_pooling2d_1 (MaxPoolin  (None, 128, 128, 32)         0         ['conv2d_3[0][0]']            \n",
      " g2D)                                                                                             \n",
      "                                                                                                  \n",
      " conv2d_4 (Conv2D)           (None, 128, 128, 64)         18496     ['max_pooling2d_1[0][0]']     \n",
      "                                                                                                  \n",
      " dropout_2 (Dropout)         (None, 128, 128, 64)         0         ['conv2d_4[0][0]']            \n",
      "                                                                                                  \n",
      " conv2d_5 (Conv2D)           (None, 128, 128, 64)         36928     ['dropout_2[0][0]']           \n",
      "                                                                                                  \n",
      " max_pooling2d_2 (MaxPoolin  (None, 64, 64, 64)           0         ['conv2d_5[0][0]']            \n",
      " g2D)                                                                                             \n",
      "                                                                                                  \n",
      " conv2d_6 (Conv2D)           (None, 64, 64, 128)          73856     ['max_pooling2d_2[0][0]']     \n",
      "                                                                                                  \n",
      " dropout_3 (Dropout)         (None, 64, 64, 128)          0         ['conv2d_6[0][0]']            \n",
      "                                                                                                  \n",
      " conv2d_7 (Conv2D)           (None, 64, 64, 128)          147584    ['dropout_3[0][0]']           \n",
      "                                                                                                  \n",
      " max_pooling2d_3 (MaxPoolin  (None, 32, 32, 128)          0         ['conv2d_7[0][0]']            \n",
      " g2D)                                                                                             \n",
      "                                                                                                  \n",
      " conv2d_8 (Conv2D)           (None, 32, 32, 256)          295168    ['max_pooling2d_3[0][0]']     \n",
      "                                                                                                  \n",
      " dropout_4 (Dropout)         (None, 32, 32, 256)          0         ['conv2d_8[0][0]']            \n",
      "                                                                                                  \n",
      " conv2d_9 (Conv2D)           (None, 32, 32, 256)          590080    ['dropout_4[0][0]']           \n",
      "                                                                                                  \n",
      " conv2d_transpose (Conv2DTr  (None, 64, 64, 128)          131200    ['conv2d_9[0][0]']            \n",
      " anspose)                                                                                         \n",
      "                                                                                                  \n",
      " concatenate (Concatenate)   (None, 64, 64, 256)          0         ['conv2d_transpose[0][0]',    \n",
      "                                                                     'conv2d_7[0][0]']            \n",
      "                                                                                                  \n",
      " conv2d_10 (Conv2D)          (None, 64, 64, 128)          295040    ['concatenate[0][0]']         \n",
      "                                                                                                  \n",
      " dropout_5 (Dropout)         (None, 64, 64, 128)          0         ['conv2d_10[0][0]']           \n",
      "                                                                                                  \n",
      " conv2d_11 (Conv2D)          (None, 64, 64, 128)          147584    ['dropout_5[0][0]']           \n",
      "                                                                                                  \n",
      " conv2d_transpose_1 (Conv2D  (None, 128, 128, 64)         32832     ['conv2d_11[0][0]']           \n",
      " Transpose)                                                                                       \n",
      "                                                                                                  \n",
      " concatenate_1 (Concatenate  (None, 128, 128, 128)        0         ['conv2d_transpose_1[0][0]',  \n",
      " )                                                                   'conv2d_5[0][0]']            \n",
      "                                                                                                  \n",
      " conv2d_12 (Conv2D)          (None, 128, 128, 64)         73792     ['concatenate_1[0][0]']       \n",
      "                                                                                                  \n",
      " dropout_6 (Dropout)         (None, 128, 128, 64)         0         ['conv2d_12[0][0]']           \n",
      "                                                                                                  \n",
      " conv2d_13 (Conv2D)          (None, 128, 128, 64)         36928     ['dropout_6[0][0]']           \n",
      "                                                                                                  \n",
      " conv2d_transpose_2 (Conv2D  (None, 256, 256, 32)         8224      ['conv2d_13[0][0]']           \n",
      " Transpose)                                                                                       \n",
      "                                                                                                  \n",
      " concatenate_2 (Concatenate  (None, 256, 256, 64)         0         ['conv2d_transpose_2[0][0]',  \n",
      " )                                                                   'conv2d_3[0][0]']            \n",
      "                                                                                                  \n",
      " conv2d_14 (Conv2D)          (None, 256, 256, 32)         18464     ['concatenate_2[0][0]']       \n",
      "                                                                                                  \n",
      " dropout_7 (Dropout)         (None, 256, 256, 32)         0         ['conv2d_14[0][0]']           \n",
      "                                                                                                  \n",
      " conv2d_15 (Conv2D)          (None, 256, 256, 32)         9248      ['dropout_7[0][0]']           \n",
      "                                                                                                  \n",
      " conv2d_transpose_3 (Conv2D  (None, 512, 512, 16)         2064      ['conv2d_15[0][0]']           \n",
      " Transpose)                                                                                       \n",
      "                                                                                                  \n",
      " concatenate_3 (Concatenate  (None, 512, 512, 32)         0         ['conv2d_transpose_3[0][0]',  \n",
      " )                                                                   'conv2d_1[0][0]']            \n",
      "                                                                                                  \n",
      " conv2d_16 (Conv2D)          (None, 512, 512, 16)         4624      ['concatenate_3[0][0]']       \n",
      "                                                                                                  \n",
      " dropout_8 (Dropout)         (None, 512, 512, 16)         0         ['conv2d_16[0][0]']           \n",
      "                                                                                                  \n",
      " conv2d_17 (Conv2D)          (None, 512, 512, 16)         2320      ['dropout_8[0][0]']           \n",
      "                                                                                                  \n",
      " conv2d_18 (Conv2D)          (None, 512, 512, 1)          17        ['conv2d_17[0][0]']           \n",
      "                                                                                                  \n",
      "==================================================================================================\n",
      "Total params: 1940817 (7.40 MB)\n",
      "Trainable params: 1940817 (7.40 MB)\n",
      "Non-trainable params: 0 (0.00 Byte)\n",
      "__________________________________________________________________________________________________\n"
     ]
    }
   ],
   "source": [
    "model = vanilla_unet_model(IMG_HEIGHT=512,\n",
    "                          IMG_WIDTH=512,\n",
    "                          IMG_CHANNELS=1)"
   ]
  },
  {
   "cell_type": "code",
   "execution_count": 37,
   "id": "4462d4cf",
   "metadata": {},
   "outputs": [],
   "source": [
    "model.compile(optimizer = optim, loss=total_loss, metrics=metrics)\n",
    "#print(model.summary())"
   ]
  },
  {
   "cell_type": "code",
   "execution_count": 47,
   "id": "75dfb013",
   "metadata": {},
   "outputs": [
    {
     "name": "stdout",
     "output_type": "stream",
     "text": [
      "No GPU is available. TensorFlow will use CPU.\n"
     ]
    }
   ],
   "source": [
    "visible_devices = tf.config.experimental.list_physical_devices('GPU')\n",
    "\n",
    "if visible_devices:\n",
    "    print(\"GPU is available.\")\n",
    "    for device in visible_devices:\n",
    "        print(f\"Device name: {device.name}\")\n",
    "else:\n",
    "    print(\"No GPU is available. TensorFlow will use CPU.\")"
   ]
  },
  {
   "cell_type": "code",
   "execution_count": 48,
   "id": "e2a4aa54",
   "metadata": {},
   "outputs": [
    {
     "name": "stdout",
     "output_type": "stream",
     "text": [
      "[]\n"
     ]
    }
   ],
   "source": [
    "print(tf.config.list_physical_devices('GPU'))"
   ]
  },
  {
   "cell_type": "code",
   "execution_count": 42,
   "id": "60477ef6",
   "metadata": {},
   "outputs": [
    {
     "name": "stdout",
     "output_type": "stream",
     "text": [
      "2.15.0\n"
     ]
    }
   ],
   "source": [
    "print(tf.__version__)"
   ]
  },
  {
   "cell_type": "code",
   "execution_count": null,
   "id": "624f856d",
   "metadata": {},
   "outputs": [],
   "source": [
    "history = model.fit(train_original_2D[:,:,:,0],\n",
    "          train_mask_2D[:,:,:,0],\n",
    "          batch_size = 4,\n",
    "          epochs = 40,\n",
    "          verbose = 1,\n",
    "          validation_data=(validation_original_2D[:,:,:,0], validation_mask_2D[:,:,:,0]))"
   ]
  },
  {
   "cell_type": "code",
   "execution_count": null,
   "id": "1e9b0d8f",
   "metadata": {},
   "outputs": [],
   "source": [
    "# Plot loss function\n",
    "loss = history.history['loss']\n",
    "val_loss = history.history['val_loss']\n",
    "\n",
    "plt.plot(loss, label='loss')\n",
    "plt.plot(val_loss, label='val_loss')\n",
    "plt.ylim(0, 1)\n",
    "plt.yticks(np.arange(0, 1.1, 0.1))\n",
    "plt.title('Model Loss (Vanilla Unet-2D, cv1)')\n",
    "plt.ylabel('loss')\n",
    "plt.xlabel('epoch')\n",
    "plt.legend(['Training set', 'Validation set'], loc='upper right')"
   ]
  }
 ],
 "metadata": {
  "kernelspec": {
   "display_name": "Python 3 (ipykernel)",
   "language": "python",
   "name": "python3"
  },
  "language_info": {
   "codemirror_mode": {
    "name": "ipython",
    "version": 3
   },
   "file_extension": ".py",
   "mimetype": "text/x-python",
   "name": "python",
   "nbconvert_exporter": "python",
   "pygments_lexer": "ipython3",
   "version": "3.10.13"
  }
 },
 "nbformat": 4,
 "nbformat_minor": 5
}
