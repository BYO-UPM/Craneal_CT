{
 "cells": [
  {
   "cell_type": "code",
   "execution_count": null,
   "metadata": {},
   "outputs": [],
   "source": [
    "from batchgenerators.utilities.file_and_folder_operations import *\n",
    "import cv2\n",
    "from skimage.filters import threshold_otsu\n",
    "from nnunetv2.dataset_conversion.generate_dataset_json import generate_dataset_json"
   ]
  },
  {
   "cell_type": "markdown",
   "metadata": {},
   "source": [
    "Setting up nnU-Net folders"
   ]
  },
  {
   "cell_type": "code",
   "execution_count": null,
   "metadata": {},
   "outputs": [],
   "source": [
    "ct_dir:str = '/home/ysun@gaps_domain.ssr.upm.es/Craneal_CT/CAT_scans_Preprocessed',\n",
    "nnunet_dataset_id: int = 250\n",
    "task_name = \"Skull_2024\"\n",
    "\n",
    "foldername = \"Dataset%03.0d_%s\" % (nnunet_dataset_id, task_name)\n",
    "nnUNet_raw = \"/home/ysun@gaps_domain.ssr.upm.es/Craneal_CT/nnunet_data/nnUNet_raw\"\n",
    "nnUNet_preprocessed = \"/home/ysun@gaps_domain.ssr.upm.es/Craneal_CT/nnunet_data/nnUNet_preprocessed\"\n",
    "out_base = join(nnUNet_raw, foldername)"
   ]
  },
  {
   "cell_type": "markdown",
   "metadata": {},
   "source": [
    "Generate .json file"
   ]
  },
  {
   "cell_type": "code",
   "execution_count": null,
   "metadata": {},
   "outputs": [],
   "source": [
    "generate_dataset_json(out_base,\n",
    "                      channel_names={0: \"CT\"},\n",
    "                      labels={\n",
    "                          \"background\": 0,\n",
    "                          \"skull\": 1\n",
    "                          },\n",
    "                        num_training_cases=576, \n",
    "                        file_ending='.png',\n",
    "                        dataset_name=task_name, \n",
    "                        reference='https://github.com/BYO-UPM/Craneal_CT',\n",
    "                        release='release',\n",
    "                        description=task_name)"
   ]
  },
  {
   "cell_type": "markdown",
   "metadata": {},
   "source": [
    "Get the binary masks: range (0, 1)"
   ]
  },
  {
   "cell_type": "code",
   "execution_count": null,
   "metadata": {},
   "outputs": [],
   "source": [
    "input_dir = '/home/Craneal_CT/Codes/nnUNet/nnunet_data/nnUNet_raw/Dataset250_Skull_2024/labels'\n",
    "output_dir = '/home/Craneal_CT/Codes/nnUNet/nnunet_data/nnUNet_raw/Dataset250_Skull_2024/labelsTr'\n",
    "for filename in os.listdir(input_dir):\n",
    "    if filename.endswith('.png'):\n",
    "        # Open the image\n",
    "        img_path = os.path.join(input_dir, filename)\n",
    "        img = cv2.imread(img_path, cv2.IMREAD_GRAYSCALE)\n",
    "            \n",
    "        # Apply threshold to create binary mask\n",
    "        threshold1 = threshold_otsu(img)\n",
    "        binary_image = img > threshold1\n",
    "        binary_image=binary_image.astype(int)\n",
    "            \n",
    "        # Save the binary image\n",
    "        output_path = os.path.join(output_dir, filename)\n",
    "        cv2.imwrite(output_path, binary_image)"
   ]
  },
  {
   "cell_type": "markdown",
   "metadata": {},
   "source": [
    "Change all the CT images into 1 channel grey-scale images"
   ]
  },
  {
   "cell_type": "code",
   "execution_count": null,
   "metadata": {},
   "outputs": [],
   "source": [
    "def convert_to_grayscale_cv2(source_directory, destination_directory):\n",
    "    # Iterate over all files in the source directory\n",
    "    for filename in os.listdir(source_directory):\n",
    "        if filename.endswith(\".png\"):\n",
    "            # Read the image in grayscale mode\n",
    "            img = cv2.imread(os.path.join(source_directory, filename), cv2.IMREAD_GRAYSCALE)\n",
    "            # Save the grayscale image to the destination directory\n",
    "            cv2.imwrite(os.path.join(destination_directory, filename), img)\n",
    "            \n",
    "            # Verify the image has 1 channel\n",
    "            if len(img.shape) == 2:\n",
    "                print(f\"{filename} is successfully converted to grayscale with 1 channel.\")\n",
    "            else:\n",
    "                print(f\"Error: {filename} still has {img.shape[-1]} channels.\")\n",
    "            \n",
    "            print(f\"Converted {filename} to grayscale and saved.\")\n",
    "\n",
    "source_dir = \"/home/Craneal_CT/Codes/nnUNet/nnunet_data/nnUNet_raw/Dataset250_Skull_2024/imagesTr_RGB\"\n",
    "dest_dir = \"/home/Craneal_CT/Codes/nnUNet/nnunet_data/nnUNet_raw/Dataset250_Skull_2024/imagesTr\"\n",
    "convert_to_grayscale_cv2(source_dir, dest_dir)"
   ]
  }
 ],
 "metadata": {
  "language_info": {
   "name": "python"
  }
 },
 "nbformat": 4,
 "nbformat_minor": 2
}
